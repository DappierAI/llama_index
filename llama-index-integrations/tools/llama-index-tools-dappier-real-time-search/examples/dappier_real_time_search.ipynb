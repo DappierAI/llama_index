{
 "cells": [
  {
   "cell_type": "markdown",
   "id": "ba49c2998ed32020",
   "metadata": {},
   "source": [
    "## Building a Dappier Real Time Search Agent\n",
    "\n",
    "<a href=\"https://colab.research.google.com/github/run-llama/llama_index/blob/main/llama-index-integrations/tools/llama-index-tools-dappier-real-time-search/examples/dappier_real_time_search.ipynb\" target=\"_parent\"><img src=\"https://colab.research.google.com/assets/colab-badge.svg\" alt=\"Open In Colab\"/></a>\n",
    "\n",
    "This tutorial walks through using the LLM tools provided by [Dappier](https://dappier.com/) to allow LLMs to use Dappier's pre-trained, LLM ready RAG models and natural language APIs to ensure factual, up-to-date, responses from premium content providers across key verticals like News, Finance, Sports, Weather, and more.\n",
    "\n",
    "\n",
    "To get started, you will need an [OpenAI API key](https://platform.openai.com/account/api-keys) and a [Dappier API key](https://platform.dappier.com/profile/api-keys)\n",
    "\n",
    "We will import the relevant agents and tools and pass them our keys here:"
   ]
  },
  {
   "cell_type": "markdown",
   "id": "11992469",
   "metadata": {},
   "source": [
    "## Installation\n",
    "\n",
    "First, install the `llama-index` and `llama-index-tools-dappier_real_time_search` packages"
   ]
  },
  {
   "cell_type": "code",
   "execution_count": 25,
   "id": "initial_id",
   "metadata": {},
   "outputs": [
    {
     "name": "stdout",
     "output_type": "stream",
     "text": [
      "Requirement already satisfied: llama-index in /Users/amaan/Library/Caches/pypoetry/virtualenvs/llama-index-yhiCGw8g-py3.10/lib/python3.10/site-packages (0.12.25)\n",
      "Requirement already satisfied: llama-index-tools-dappier-real-time-search in /Users/amaan/Library/Caches/pypoetry/virtualenvs/llama-index-yhiCGw8g-py3.10/lib/python3.10/site-packages (0.3.0)\n",
      "Requirement already satisfied: llama-index-agent-openai<0.5.0,>=0.4.0 in /Users/amaan/Library/Caches/pypoetry/virtualenvs/llama-index-yhiCGw8g-py3.10/lib/python3.10/site-packages (from llama-index) (0.4.6)\n",
      "Requirement already satisfied: llama-index-cli<0.5.0,>=0.4.1 in /Users/amaan/Library/Caches/pypoetry/virtualenvs/llama-index-yhiCGw8g-py3.10/lib/python3.10/site-packages (from llama-index) (0.4.1)\n",
      "Requirement already satisfied: llama-index-core<0.13.0,>=0.12.25 in /Users/amaan/Library/Caches/pypoetry/virtualenvs/llama-index-yhiCGw8g-py3.10/lib/python3.10/site-packages (from llama-index) (0.12.25)\n",
      "Requirement already satisfied: llama-index-embeddings-openai<0.4.0,>=0.3.0 in /Users/amaan/Library/Caches/pypoetry/virtualenvs/llama-index-yhiCGw8g-py3.10/lib/python3.10/site-packages (from llama-index) (0.3.1)\n",
      "Requirement already satisfied: llama-index-indices-managed-llama-cloud>=0.4.0 in /Users/amaan/Library/Caches/pypoetry/virtualenvs/llama-index-yhiCGw8g-py3.10/lib/python3.10/site-packages (from llama-index) (0.6.9)\n",
      "Requirement already satisfied: llama-index-llms-openai<0.4.0,>=0.3.0 in /Users/amaan/Library/Caches/pypoetry/virtualenvs/llama-index-yhiCGw8g-py3.10/lib/python3.10/site-packages (from llama-index) (0.3.24)\n",
      "Requirement already satisfied: llama-index-multi-modal-llms-openai<0.5.0,>=0.4.0 in /Users/amaan/Library/Caches/pypoetry/virtualenvs/llama-index-yhiCGw8g-py3.10/lib/python3.10/site-packages (from llama-index) (0.4.3)\n",
      "Requirement already satisfied: llama-index-program-openai<0.4.0,>=0.3.0 in /Users/amaan/Library/Caches/pypoetry/virtualenvs/llama-index-yhiCGw8g-py3.10/lib/python3.10/site-packages (from llama-index) (0.3.1)\n",
      "Requirement already satisfied: llama-index-question-gen-openai<0.4.0,>=0.3.0 in /Users/amaan/Library/Caches/pypoetry/virtualenvs/llama-index-yhiCGw8g-py3.10/lib/python3.10/site-packages (from llama-index) (0.3.0)\n",
      "Requirement already satisfied: llama-index-readers-file<0.5.0,>=0.4.0 in /Users/amaan/Library/Caches/pypoetry/virtualenvs/llama-index-yhiCGw8g-py3.10/lib/python3.10/site-packages (from llama-index) (0.4.6)\n",
      "Requirement already satisfied: llama-index-readers-llama-parse>=0.4.0 in /Users/amaan/Library/Caches/pypoetry/virtualenvs/llama-index-yhiCGw8g-py3.10/lib/python3.10/site-packages (from llama-index) (0.4.0)\n",
      "Requirement already satisfied: nltk>3.8.1 in /Users/amaan/Library/Caches/pypoetry/virtualenvs/llama-index-yhiCGw8g-py3.10/lib/python3.10/site-packages (from llama-index) (3.9.1)\n",
      "Requirement already satisfied: dappier<0.4.0,>=0.3.3 in /Users/amaan/Library/Caches/pypoetry/virtualenvs/llama-index-yhiCGw8g-py3.10/lib/python3.10/site-packages (from llama-index-tools-dappier-real-time-search) (0.3.3)\n",
      "Requirement already satisfied: asyncio<4.0.0,>=3.4.3 in /Users/amaan/Library/Caches/pypoetry/virtualenvs/llama-index-yhiCGw8g-py3.10/lib/python3.10/site-packages (from dappier<0.4.0,>=0.3.3->llama-index-tools-dappier-real-time-search) (3.4.3)\n",
      "Requirement already satisfied: httpx<0.29.0,>=0.23.0 in /Users/amaan/Library/Caches/pypoetry/virtualenvs/llama-index-yhiCGw8g-py3.10/lib/python3.10/site-packages (from dappier<0.4.0,>=0.3.3->llama-index-tools-dappier-real-time-search) (0.28.1)\n",
      "Requirement already satisfied: pydantic<3.0.0,>=1.9 in /Users/amaan/Library/Caches/pypoetry/virtualenvs/llama-index-yhiCGw8g-py3.10/lib/python3.10/site-packages (from dappier<0.4.0,>=0.3.3->llama-index-tools-dappier-real-time-search) (2.10.6)\n",
      "Requirement already satisfied: openai>=1.14.0 in /Users/amaan/Library/Caches/pypoetry/virtualenvs/llama-index-yhiCGw8g-py3.10/lib/python3.10/site-packages (from llama-index-agent-openai<0.5.0,>=0.4.0->llama-index) (1.66.5)\n",
      "Requirement already satisfied: PyYAML>=6.0.1 in /Users/amaan/Library/Caches/pypoetry/virtualenvs/llama-index-yhiCGw8g-py3.10/lib/python3.10/site-packages (from llama-index-core<0.13.0,>=0.12.25->llama-index) (6.0.2)\n",
      "Requirement already satisfied: SQLAlchemy>=1.4.49 in /Users/amaan/Library/Caches/pypoetry/virtualenvs/llama-index-yhiCGw8g-py3.10/lib/python3.10/site-packages (from SQLAlchemy[asyncio]>=1.4.49->llama-index-core<0.13.0,>=0.12.25->llama-index) (2.0.39)\n",
      "Requirement already satisfied: aiohttp<4.0.0,>=3.8.6 in /Users/amaan/Library/Caches/pypoetry/virtualenvs/llama-index-yhiCGw8g-py3.10/lib/python3.10/site-packages (from llama-index-core<0.13.0,>=0.12.25->llama-index) (3.11.14)\n",
      "Requirement already satisfied: dataclasses-json in /Users/amaan/Library/Caches/pypoetry/virtualenvs/llama-index-yhiCGw8g-py3.10/lib/python3.10/site-packages (from llama-index-core<0.13.0,>=0.12.25->llama-index) (0.6.7)\n",
      "Requirement already satisfied: deprecated>=1.2.9.3 in /Users/amaan/Library/Caches/pypoetry/virtualenvs/llama-index-yhiCGw8g-py3.10/lib/python3.10/site-packages (from llama-index-core<0.13.0,>=0.12.25->llama-index) (1.2.18)\n",
      "Requirement already satisfied: dirtyjson<2.0.0,>=1.0.8 in /Users/amaan/Library/Caches/pypoetry/virtualenvs/llama-index-yhiCGw8g-py3.10/lib/python3.10/site-packages (from llama-index-core<0.13.0,>=0.12.25->llama-index) (1.0.8)\n",
      "Requirement already satisfied: filetype<2.0.0,>=1.2.0 in /Users/amaan/Library/Caches/pypoetry/virtualenvs/llama-index-yhiCGw8g-py3.10/lib/python3.10/site-packages (from llama-index-core<0.13.0,>=0.12.25->llama-index) (1.2.0)\n",
      "Requirement already satisfied: fsspec>=2023.5.0 in /Users/amaan/Library/Caches/pypoetry/virtualenvs/llama-index-yhiCGw8g-py3.10/lib/python3.10/site-packages (from llama-index-core<0.13.0,>=0.12.25->llama-index) (2025.3.0)\n",
      "Requirement already satisfied: nest-asyncio<2.0.0,>=1.5.8 in /Users/amaan/Library/Caches/pypoetry/virtualenvs/llama-index-yhiCGw8g-py3.10/lib/python3.10/site-packages (from llama-index-core<0.13.0,>=0.12.25->llama-index) (1.6.0)\n",
      "Requirement already satisfied: networkx>=3.0 in /Users/amaan/Library/Caches/pypoetry/virtualenvs/llama-index-yhiCGw8g-py3.10/lib/python3.10/site-packages (from llama-index-core<0.13.0,>=0.12.25->llama-index) (3.2.1)\n",
      "Requirement already satisfied: numpy in /Users/amaan/Library/Caches/pypoetry/virtualenvs/llama-index-yhiCGw8g-py3.10/lib/python3.10/site-packages (from llama-index-core<0.13.0,>=0.12.25->llama-index) (2.0.2)\n",
      "Requirement already satisfied: pillow>=9.0.0 in /Users/amaan/Library/Caches/pypoetry/virtualenvs/llama-index-yhiCGw8g-py3.10/lib/python3.10/site-packages (from llama-index-core<0.13.0,>=0.12.25->llama-index) (11.1.0)\n",
      "Requirement already satisfied: requests>=2.31.0 in /Users/amaan/Library/Caches/pypoetry/virtualenvs/llama-index-yhiCGw8g-py3.10/lib/python3.10/site-packages (from llama-index-core<0.13.0,>=0.12.25->llama-index) (2.32.3)\n",
      "Requirement already satisfied: tenacity!=8.4.0,<10.0.0,>=8.2.0 in /Users/amaan/Library/Caches/pypoetry/virtualenvs/llama-index-yhiCGw8g-py3.10/lib/python3.10/site-packages (from llama-index-core<0.13.0,>=0.12.25->llama-index) (9.0.0)\n",
      "Requirement already satisfied: tiktoken>=0.3.3 in /Users/amaan/Library/Caches/pypoetry/virtualenvs/llama-index-yhiCGw8g-py3.10/lib/python3.10/site-packages (from llama-index-core<0.13.0,>=0.12.25->llama-index) (0.9.0)\n",
      "Requirement already satisfied: tqdm<5.0.0,>=4.66.1 in /Users/amaan/Library/Caches/pypoetry/virtualenvs/llama-index-yhiCGw8g-py3.10/lib/python3.10/site-packages (from llama-index-core<0.13.0,>=0.12.25->llama-index) (4.67.1)\n",
      "Requirement already satisfied: typing-extensions>=4.5.0 in /Users/amaan/Library/Caches/pypoetry/virtualenvs/llama-index-yhiCGw8g-py3.10/lib/python3.10/site-packages (from llama-index-core<0.13.0,>=0.12.25->llama-index) (4.12.2)\n",
      "Requirement already satisfied: typing-inspect>=0.8.0 in /Users/amaan/Library/Caches/pypoetry/virtualenvs/llama-index-yhiCGw8g-py3.10/lib/python3.10/site-packages (from llama-index-core<0.13.0,>=0.12.25->llama-index) (0.9.0)\n",
      "Requirement already satisfied: wrapt in /Users/amaan/Library/Caches/pypoetry/virtualenvs/llama-index-yhiCGw8g-py3.10/lib/python3.10/site-packages (from llama-index-core<0.13.0,>=0.12.25->llama-index) (1.17.2)\n",
      "Requirement already satisfied: llama-cloud<0.2.0,>=0.1.13 in /Users/amaan/Library/Caches/pypoetry/virtualenvs/llama-index-yhiCGw8g-py3.10/lib/python3.10/site-packages (from llama-index-indices-managed-llama-cloud>=0.4.0->llama-index) (0.1.15)\n",
      "Requirement already satisfied: beautifulsoup4<5.0.0,>=4.12.3 in /Users/amaan/Library/Caches/pypoetry/virtualenvs/llama-index-yhiCGw8g-py3.10/lib/python3.10/site-packages (from llama-index-readers-file<0.5.0,>=0.4.0->llama-index) (4.13.3)\n",
      "Requirement already satisfied: pandas in /Users/amaan/Library/Caches/pypoetry/virtualenvs/llama-index-yhiCGw8g-py3.10/lib/python3.10/site-packages (from llama-index-readers-file<0.5.0,>=0.4.0->llama-index) (2.2.3)\n",
      "Requirement already satisfied: pypdf<6.0.0,>=5.1.0 in /Users/amaan/Library/Caches/pypoetry/virtualenvs/llama-index-yhiCGw8g-py3.10/lib/python3.10/site-packages (from llama-index-readers-file<0.5.0,>=0.4.0->llama-index) (5.4.0)\n",
      "Requirement already satisfied: striprtf<0.0.27,>=0.0.26 in /Users/amaan/Library/Caches/pypoetry/virtualenvs/llama-index-yhiCGw8g-py3.10/lib/python3.10/site-packages (from llama-index-readers-file<0.5.0,>=0.4.0->llama-index) (0.0.26)\n",
      "Requirement already satisfied: llama-parse>=0.5.0 in /Users/amaan/Library/Caches/pypoetry/virtualenvs/llama-index-yhiCGw8g-py3.10/lib/python3.10/site-packages (from llama-index-readers-llama-parse>=0.4.0->llama-index) (0.6.4.post1)\n",
      "Requirement already satisfied: click in /Users/amaan/Library/Caches/pypoetry/virtualenvs/llama-index-yhiCGw8g-py3.10/lib/python3.10/site-packages (from nltk>3.8.1->llama-index) (8.1.8)\n",
      "Requirement already satisfied: joblib in /Users/amaan/Library/Caches/pypoetry/virtualenvs/llama-index-yhiCGw8g-py3.10/lib/python3.10/site-packages (from nltk>3.8.1->llama-index) (1.4.2)\n",
      "Requirement already satisfied: regex>=2021.8.3 in /Users/amaan/Library/Caches/pypoetry/virtualenvs/llama-index-yhiCGw8g-py3.10/lib/python3.10/site-packages (from nltk>3.8.1->llama-index) (2024.11.6)\n",
      "Requirement already satisfied: aiohappyeyeballs>=2.3.0 in /Users/amaan/Library/Caches/pypoetry/virtualenvs/llama-index-yhiCGw8g-py3.10/lib/python3.10/site-packages (from aiohttp<4.0.0,>=3.8.6->llama-index-core<0.13.0,>=0.12.25->llama-index) (2.6.1)\n",
      "Requirement already satisfied: aiosignal>=1.1.2 in /Users/amaan/Library/Caches/pypoetry/virtualenvs/llama-index-yhiCGw8g-py3.10/lib/python3.10/site-packages (from aiohttp<4.0.0,>=3.8.6->llama-index-core<0.13.0,>=0.12.25->llama-index) (1.3.2)\n",
      "Requirement already satisfied: async-timeout<6.0,>=4.0 in /Users/amaan/Library/Caches/pypoetry/virtualenvs/llama-index-yhiCGw8g-py3.10/lib/python3.10/site-packages (from aiohttp<4.0.0,>=3.8.6->llama-index-core<0.13.0,>=0.12.25->llama-index) (5.0.1)\n",
      "Requirement already satisfied: attrs>=17.3.0 in /Users/amaan/Library/Caches/pypoetry/virtualenvs/llama-index-yhiCGw8g-py3.10/lib/python3.10/site-packages (from aiohttp<4.0.0,>=3.8.6->llama-index-core<0.13.0,>=0.12.25->llama-index) (25.3.0)\n",
      "Requirement already satisfied: frozenlist>=1.1.1 in /Users/amaan/Library/Caches/pypoetry/virtualenvs/llama-index-yhiCGw8g-py3.10/lib/python3.10/site-packages (from aiohttp<4.0.0,>=3.8.6->llama-index-core<0.13.0,>=0.12.25->llama-index) (1.5.0)\n",
      "Requirement already satisfied: multidict<7.0,>=4.5 in /Users/amaan/Library/Caches/pypoetry/virtualenvs/llama-index-yhiCGw8g-py3.10/lib/python3.10/site-packages (from aiohttp<4.0.0,>=3.8.6->llama-index-core<0.13.0,>=0.12.25->llama-index) (6.2.0)\n",
      "Requirement already satisfied: propcache>=0.2.0 in /Users/amaan/Library/Caches/pypoetry/virtualenvs/llama-index-yhiCGw8g-py3.10/lib/python3.10/site-packages (from aiohttp<4.0.0,>=3.8.6->llama-index-core<0.13.0,>=0.12.25->llama-index) (0.3.0)\n",
      "Requirement already satisfied: yarl<2.0,>=1.17.0 in /Users/amaan/Library/Caches/pypoetry/virtualenvs/llama-index-yhiCGw8g-py3.10/lib/python3.10/site-packages (from aiohttp<4.0.0,>=3.8.6->llama-index-core<0.13.0,>=0.12.25->llama-index) (1.18.3)\n",
      "Requirement already satisfied: soupsieve>1.2 in /Users/amaan/Library/Caches/pypoetry/virtualenvs/llama-index-yhiCGw8g-py3.10/lib/python3.10/site-packages (from beautifulsoup4<5.0.0,>=4.12.3->llama-index-readers-file<0.5.0,>=0.4.0->llama-index) (2.6)\n",
      "Requirement already satisfied: anyio in /Users/amaan/Library/Caches/pypoetry/virtualenvs/llama-index-yhiCGw8g-py3.10/lib/python3.10/site-packages (from httpx<0.29.0,>=0.23.0->dappier<0.4.0,>=0.3.3->llama-index-tools-dappier-real-time-search) (4.9.0)\n",
      "Requirement already satisfied: certifi in /Users/amaan/Library/Caches/pypoetry/virtualenvs/llama-index-yhiCGw8g-py3.10/lib/python3.10/site-packages (from httpx<0.29.0,>=0.23.0->dappier<0.4.0,>=0.3.3->llama-index-tools-dappier-real-time-search) (2025.1.31)\n",
      "Requirement already satisfied: httpcore==1.* in /Users/amaan/Library/Caches/pypoetry/virtualenvs/llama-index-yhiCGw8g-py3.10/lib/python3.10/site-packages (from httpx<0.29.0,>=0.23.0->dappier<0.4.0,>=0.3.3->llama-index-tools-dappier-real-time-search) (1.0.7)\n",
      "Requirement already satisfied: idna in /Users/amaan/Library/Caches/pypoetry/virtualenvs/llama-index-yhiCGw8g-py3.10/lib/python3.10/site-packages (from httpx<0.29.0,>=0.23.0->dappier<0.4.0,>=0.3.3->llama-index-tools-dappier-real-time-search) (3.10)\n",
      "Requirement already satisfied: h11<0.15,>=0.13 in /Users/amaan/Library/Caches/pypoetry/virtualenvs/llama-index-yhiCGw8g-py3.10/lib/python3.10/site-packages (from httpcore==1.*->httpx<0.29.0,>=0.23.0->dappier<0.4.0,>=0.3.3->llama-index-tools-dappier-real-time-search) (0.14.0)\n",
      "Requirement already satisfied: llama-cloud-services>=0.6.4 in /Users/amaan/Library/Caches/pypoetry/virtualenvs/llama-index-yhiCGw8g-py3.10/lib/python3.10/site-packages (from llama-parse>=0.5.0->llama-index-readers-llama-parse>=0.4.0->llama-index) (0.6.6)\n",
      "Requirement already satisfied: distro<2,>=1.7.0 in /Users/amaan/Library/Caches/pypoetry/virtualenvs/llama-index-yhiCGw8g-py3.10/lib/python3.10/site-packages (from openai>=1.14.0->llama-index-agent-openai<0.5.0,>=0.4.0->llama-index) (1.9.0)\n",
      "Requirement already satisfied: jiter<1,>=0.4.0 in /Users/amaan/Library/Caches/pypoetry/virtualenvs/llama-index-yhiCGw8g-py3.10/lib/python3.10/site-packages (from openai>=1.14.0->llama-index-agent-openai<0.5.0,>=0.4.0->llama-index) (0.9.0)\n",
      "Requirement already satisfied: sniffio in /Users/amaan/Library/Caches/pypoetry/virtualenvs/llama-index-yhiCGw8g-py3.10/lib/python3.10/site-packages (from openai>=1.14.0->llama-index-agent-openai<0.5.0,>=0.4.0->llama-index) (1.3.1)\n",
      "Requirement already satisfied: annotated-types>=0.6.0 in /Users/amaan/Library/Caches/pypoetry/virtualenvs/llama-index-yhiCGw8g-py3.10/lib/python3.10/site-packages (from pydantic<3.0.0,>=1.9->dappier<0.4.0,>=0.3.3->llama-index-tools-dappier-real-time-search) (0.7.0)\n",
      "Requirement already satisfied: pydantic-core==2.27.2 in /Users/amaan/Library/Caches/pypoetry/virtualenvs/llama-index-yhiCGw8g-py3.10/lib/python3.10/site-packages (from pydantic<3.0.0,>=1.9->dappier<0.4.0,>=0.3.3->llama-index-tools-dappier-real-time-search) (2.27.2)\n",
      "Requirement already satisfied: charset-normalizer<4,>=2 in /Users/amaan/Library/Caches/pypoetry/virtualenvs/llama-index-yhiCGw8g-py3.10/lib/python3.10/site-packages (from requests>=2.31.0->llama-index-core<0.13.0,>=0.12.25->llama-index) (3.4.1)\n",
      "Requirement already satisfied: urllib3<3,>=1.21.1 in /Users/amaan/Library/Caches/pypoetry/virtualenvs/llama-index-yhiCGw8g-py3.10/lib/python3.10/site-packages (from requests>=2.31.0->llama-index-core<0.13.0,>=0.12.25->llama-index) (2.3.0)\n",
      "Requirement already satisfied: greenlet!=0.4.17 in /Users/amaan/Library/Caches/pypoetry/virtualenvs/llama-index-yhiCGw8g-py3.10/lib/python3.10/site-packages (from SQLAlchemy[asyncio]>=1.4.49->llama-index-core<0.13.0,>=0.12.25->llama-index) (3.1.1)\n",
      "Requirement already satisfied: mypy-extensions>=0.3.0 in /Users/amaan/Library/Caches/pypoetry/virtualenvs/llama-index-yhiCGw8g-py3.10/lib/python3.10/site-packages (from typing-inspect>=0.8.0->llama-index-core<0.13.0,>=0.12.25->llama-index) (1.0.0)\n",
      "Requirement already satisfied: marshmallow<4.0.0,>=3.18.0 in /Users/amaan/Library/Caches/pypoetry/virtualenvs/llama-index-yhiCGw8g-py3.10/lib/python3.10/site-packages (from dataclasses-json->llama-index-core<0.13.0,>=0.12.25->llama-index) (3.26.1)\n",
      "Requirement already satisfied: python-dateutil>=2.8.2 in /Users/amaan/Library/Caches/pypoetry/virtualenvs/llama-index-yhiCGw8g-py3.10/lib/python3.10/site-packages (from pandas->llama-index-readers-file<0.5.0,>=0.4.0->llama-index) (2.9.0.post0)\n",
      "Requirement already satisfied: pytz>=2020.1 in /Users/amaan/Library/Caches/pypoetry/virtualenvs/llama-index-yhiCGw8g-py3.10/lib/python3.10/site-packages (from pandas->llama-index-readers-file<0.5.0,>=0.4.0->llama-index) (2025.1)\n",
      "Requirement already satisfied: tzdata>=2022.7 in /Users/amaan/Library/Caches/pypoetry/virtualenvs/llama-index-yhiCGw8g-py3.10/lib/python3.10/site-packages (from pandas->llama-index-readers-file<0.5.0,>=0.4.0->llama-index) (2025.1)\n",
      "Requirement already satisfied: exceptiongroup>=1.0.2 in /Users/amaan/Library/Caches/pypoetry/virtualenvs/llama-index-yhiCGw8g-py3.10/lib/python3.10/site-packages (from anyio->httpx<0.29.0,>=0.23.0->dappier<0.4.0,>=0.3.3->llama-index-tools-dappier-real-time-search) (1.2.2)\n",
      "Requirement already satisfied: python-dotenv<2.0.0,>=1.0.1 in /Users/amaan/Library/Caches/pypoetry/virtualenvs/llama-index-yhiCGw8g-py3.10/lib/python3.10/site-packages (from llama-cloud-services>=0.6.4->llama-parse>=0.5.0->llama-index-readers-llama-parse>=0.4.0->llama-index) (1.0.1)\n",
      "Requirement already satisfied: packaging>=17.0 in /Users/amaan/Library/Caches/pypoetry/virtualenvs/llama-index-yhiCGw8g-py3.10/lib/python3.10/site-packages (from marshmallow<4.0.0,>=3.18.0->dataclasses-json->llama-index-core<0.13.0,>=0.12.25->llama-index) (24.2)\n",
      "Requirement already satisfied: six>=1.5 in /Users/amaan/Library/Caches/pypoetry/virtualenvs/llama-index-yhiCGw8g-py3.10/lib/python3.10/site-packages (from python-dateutil>=2.8.2->pandas->llama-index-readers-file<0.5.0,>=0.4.0->llama-index) (1.17.0)\n",
      "Note: you may need to restart the kernel to use updated packages.\n"
     ]
    }
   ],
   "source": [
    "%pip install llama-index llama-index-tools-dappier-real-time-search"
   ]
  },
  {
   "cell_type": "markdown",
   "id": "f7f3a766",
   "metadata": {},
   "source": [
    "## Setup API keys\n",
    "\n",
    "You'll need to set up your API keys for OpenAI and Dappier."
   ]
  },
  {
   "cell_type": "markdown",
   "id": "59886322",
   "metadata": {},
   "source": [
    "Your can go to [here](https://platform.openai.com/settings/organization/api-keys) to get API Key from Open AI."
   ]
  },
  {
   "cell_type": "code",
   "execution_count": 13,
   "id": "a5316e0f",
   "metadata": {},
   "outputs": [],
   "source": [
    "import os\n",
    "from getpass import getpass\n",
    "\n",
    "# Prompt for the API key securely\n",
    "openai_api_key = getpass('Enter your API key: ')\n",
    "os.environ[\"OPENAI_API_KEY\"] = openai_api_key"
   ]
  },
  {
   "cell_type": "markdown",
   "id": "40347147",
   "metadata": {},
   "source": [
    "You can go to [here](https://platform.dappier.com/profile/api-keys) to get API Key from Dappier with **free** credits."
   ]
  },
  {
   "cell_type": "code",
   "execution_count": 14,
   "id": "bf4fe7bd",
   "metadata": {},
   "outputs": [],
   "source": [
    "# Prompt for the Dappier API key securely\n",
    "dappier_api_key = getpass('Enter your API key: ')\n",
    "os.environ[\"DAPPIER_API_KEY\"] = dappier_api_key"
   ]
  },
  {
   "cell_type": "markdown",
   "id": "e7f73566",
   "metadata": {},
   "source": [
    "## Setup Dappier Tool\n",
    "\n",
    "Initialize the Dappier Real-Time Search Tool, convert it to a tool list."
   ]
  },
  {
   "cell_type": "code",
   "execution_count": 26,
   "id": "5b0877f51a351135",
   "metadata": {},
   "outputs": [
    {
     "name": "stdout",
     "output_type": "stream",
     "text": [
      "search_real_time_data\n",
      "search_stock_market_data\n"
     ]
    }
   ],
   "source": [
    "from llama_index.tools.dappier_real_time_search import DappierRealTimeSearchToolSpec\n",
    "\n",
    "dappier_tool = DappierRealTimeSearchToolSpec()\n",
    "\n",
    "dappier_tool_list = dappier_tool.to_tool_list()\n",
    "for tool in dappier_tool_list:\n",
    "    print(tool.metadata.name)"
   ]
  },
  {
   "cell_type": "markdown",
   "id": "10363da6",
   "metadata": {},
   "source": [
    "## Usage\n",
    "\n",
    "We've imported our OpenAI agent, set up the api key, and initialized our tool. Let's test out the tool before setting up our Agent.\n"
   ]
  },
  {
   "cell_type": "markdown",
   "id": "427a81ad",
   "metadata": {},
   "source": [
    "### Search Real Time Data\n",
    "\n",
    "Access real-time google web search results including the latest news, weather, travel, deals and more."
   ]
  },
  {
   "cell_type": "code",
   "execution_count": 27,
   "id": "c2d1e7865b0301f9",
   "metadata": {},
   "outputs": [
    {
     "name": "stdout",
     "output_type": "stream",
     "text": [
      "Today in New York, it's around 45°F (about 7°C). It’s a bit chilly, so you might want to grab a jacket if you're heading out! 🌬️🧥 Enjoy your day!\n"
     ]
    }
   ],
   "source": [
    "print(dappier_tool.search_real_time_data(\"How is the weather in New York today?\"))"
   ]
  },
  {
   "cell_type": "markdown",
   "id": "b45fe5c5",
   "metadata": {},
   "source": [
    "### Search Stock Market Data\n",
    "\n",
    "Access real-time financial news, stock prices, and trades from polygon.io, with AI-powered insights and up-to-the-minute updates to keep you informed on all your financial interests.\n"
   ]
  },
  {
   "cell_type": "code",
   "execution_count": 28,
   "id": "ecd6d5e6",
   "metadata": {},
   "outputs": [
    {
     "name": "stdout",
     "output_type": "stream",
     "text": [
      "Here are the latest financial news articles related to Meta:\n",
      "\n",
      "1. **Title:** [Big Q3 Earnings Headed Our Way: MSFT, GOOGL & More](https://www.zacks.com/stock/news/2170435/big-q3-earnings-headed-our-way-msft-googl-more)  \n",
      "   **Publisher:** Zacks Investment Research  \n",
      "   **Published:** October 23, 2023  \n",
      "   **Description:** The self-policing of high-bond-yield wariness is keeping equities from jumping ahead.  \n",
      "   **Tickers:** META, MSFT, GOOGL, and others.  \n",
      "   ![Image](https://staticx-tuner.zacks.com/images/articles/main/00/54217.jpg)\n",
      "\n",
      "2. **Title:** [Dow Jones ends down for fourth day, S&P 500 posts longest losing streak of 2023](https://www.marketwatch.com/story/u-s-stock-futures-fall-as-10-year-treasury-yield-hits-5-c576c30a)  \n",
      "   **Publisher:** MarketWatch  \n",
      "   **Published:** October 23, 2023  \n",
      "   **Description:** U.S. stocks finish mostly lower even after the 10-year Treasury yield pulled back from 5%.  \n",
      "   **Tickers:** META, MSFT, GOOGL, and others.  \n",
      "   ![Image](https://images.mktw.net/im-839919/social)\n",
      "\n",
      "3. **Title:** [Top Stock Picks for Week of October 23, 2023](https://www.zacks.com/stock/news/2170412/top-stock-picks-for-week-of-october-23-2023)  \n",
      "   **Publisher:** Zacks Investment Research  \n",
      "   **Published:** October 23, 2023  \n",
      "   **Description:** A Large Uranium Producer Benefiting From Geopolitical Changes and the Largest Social Media Platform Benefiting From Steady User Growth.  \n",
      "   **Tickers:** META and others.  \n",
      "   ![Image](https://staticx-tuner.zacks.com/images/default_article_images/default280.jpg)\n",
      "\n",
      "4. **Title:** [Will Q3 Be a Trick or Treat for Investors As Peak Season Begins?](https://www.investing.com/analysis/will-q3-be-a-trick-or-treat-for-investors-as-peak-season-begins-200642974)  \n",
      "   **Publisher:** Investing.com  \n",
      "   **Published:** October 23, 2023  \n",
      "   **Description:** Analysis on the potential outcomes for investors as the peak season begins.  \n",
      "   **Tickers:** META, TSLA, AMZN, and others.  \n",
      "   ![Image](https://i-invdn-com.investing.com/redesign/images/seo/investingcom_analysis_og.jpg)\n",
      "\n",
      "These articles provide insights into Meta's current market position and the broader market context.\n"
     ]
    }
   ],
   "source": [
    "print(dappier_tool.search_stock_market_data(\"latest financial news on Meta\"))"
   ]
  },
  {
   "cell_type": "markdown",
   "id": "d41fb0d3",
   "metadata": {},
   "source": [
    "### Using the Dappier Real Time Search tool in an Agent\n",
    "\n",
    "We can create an agent with access to the Dappier Real Time Search tool start testing it out:"
   ]
  },
  {
   "cell_type": "code",
   "execution_count": 30,
   "id": "a33051ce",
   "metadata": {},
   "outputs": [],
   "source": [
    "from llama_index.core.agent import FunctionCallingAgent\n",
    "from llama_index.llms.openai import OpenAI\n",
    "\n",
    "agent = FunctionCallingAgent.from_tools(\n",
    "    dappier_tool_list,\n",
    "    llm=OpenAI(model=\"gpt-4o\"),\n",
    ")"
   ]
  },
  {
   "cell_type": "code",
   "execution_count": 31,
   "id": "5bcaa33f006b4fb9",
   "metadata": {},
   "outputs": [],
   "source": [
    "from llama_index.core.agent import FunctionCallingAgent\n",
    "from llama_index.llms.openai import OpenAI\n",
    "\n",
    "agent = FunctionCallingAgent.from_tools(\n",
    "    dappier_tool_list,\n",
    "    llm=OpenAI(model=\"gpt-4o\"),\n",
    ")"
   ]
  },
  {
   "cell_type": "code",
   "execution_count": 32,
   "id": "ba290fe8f1621839",
   "metadata": {},
   "outputs": [
    {
     "name": "stdout",
     "output_type": "stream",
     "text": [
      "Here's a daily clothing recommendation for New York next week based on the weather forecast:\n",
      "\n",
      "### Monday\n",
      "- **Weather:** Mostly sunny, high around 50°F (10°C).\n",
      "- **Clothing Recommendation:** Wear a light jacket or sweater with jeans. Sunglasses might be handy for the sunny weather.\n",
      "\n",
      "### Tuesday\n",
      "- **Weather:** Partly cloudy, high near 52°F (11°C).\n",
      "- **Clothing Recommendation:** A long-sleeve shirt with a medium-weight jacket should be comfortable. Consider a scarf for added warmth.\n",
      "\n",
      "### Wednesday\n",
      "- **Weather:** Chance of rain, high around 48°F (9°C).\n",
      "- **Clothing Recommendation:** Wear a waterproof jacket or coat with a hood. Don't forget an umbrella and waterproof shoes.\n",
      "\n",
      "### Thursday\n",
      "- **Weather:** Cloudy, high about 46°F (8°C).\n",
      "- **Clothing Recommendation:** A warm sweater with a heavier coat. Layering is key to staying comfortable.\n",
      "\n",
      "### Friday\n",
      "- **Weather:** Rain likely, high near 44°F (7°C).\n",
      "- **Clothing Recommendation:** A raincoat and waterproof boots are essential. Keep an umbrella handy.\n",
      "\n",
      "### Saturday\n",
      "- **Weather:** Mostly cloudy, high around 45°F (7°C).\n",
      "- **Clothing Recommendation:** A warm jacket with a scarf and gloves. Consider wearing layers to adjust to changing temperatures.\n",
      "\n",
      "### Sunday\n",
      "- **Weather:** Partly sunny, high near 47°F (8°C).\n",
      "- **Clothing Recommendation:** A medium-weight jacket with a long-sleeve shirt. Sunglasses can be useful if the sun peeks out.\n",
      "\n",
      "Stay warm and enjoy the week!\n"
     ]
    }
   ],
   "source": [
    "print(\n",
    "    agent.chat(\n",
    "        \"Analyze next week's weather in New York and provide daily clothing recommendations in a markdown format.\"\n",
    "    )\n",
    ")"
   ]
  },
  {
   "cell_type": "code",
   "execution_count": 33,
   "id": "709c6a64",
   "metadata": {},
   "outputs": [
    {
     "name": "stdout",
     "output_type": "stream",
     "text": [
      "Here's a summary of Apple stock's activity over the last 24 hours:\n",
      "\n",
      "- **Current Price:** $173.29\n",
      "\n",
      "**Recent Trades:**\n",
      "1. $173.27, 86 shares\n",
      "2. $173.27, 10 shares\n",
      "3. $173.28, 1 share\n",
      "4. $173.28, 3 shares\n",
      "5. $173.27, 1 share\n",
      "6. $173.2701, 1 share\n",
      "7. $173.27, 112 shares\n",
      "8. $173.27, 1 share\n",
      "9. $173.27, 2 shares\n",
      "10. $173.28, 1 share\n",
      "11. $173.2706, 100 shares\n",
      "12. $173.29, 10 shares\n",
      "13. $173.27, 1 share\n",
      "14. $173.29, 1 share\n",
      "15. $173.29, 50 shares\n",
      "16. $173.29, 1 share\n",
      "17. $173.26, 91 shares\n",
      "18. $173.26, 10 shares\n",
      "19. $173.28, 27 shares\n",
      "20. $173.26, 373 shares\n",
      "21. $173.28, 23 shares\n",
      "22. $173.29, 5 shares\n",
      "23. $173.30, 1 share\n",
      "24. $173.30, 1 share\n",
      "25. $173.285, 1 share\n",
      "\n",
      "The stock has seen a range of trades with prices fluctuating slightly around the $173 mark. Let me know if you need more detailed analysis or additional information!\n"
     ]
    }
   ],
   "source": [
    "print(\n",
    "    agent.chat(\n",
    "        \"Last 24-hour activity of apple stock\"\n",
    "    )\n",
    ")"
   ]
  }
 ],
 "metadata": {
  "kernelspec": {
   "display_name": "llama-index-yhiCGw8g-py3.10",
   "language": "python",
   "name": "python3"
  },
  "language_info": {
   "codemirror_mode": {
    "name": "ipython",
    "version": 3
   },
   "file_extension": ".py",
   "mimetype": "text/x-python",
   "name": "python",
   "nbconvert_exporter": "python",
   "pygments_lexer": "ipython3",
   "version": "3.10.0"
  }
 },
 "nbformat": 4,
 "nbformat_minor": 5
}
